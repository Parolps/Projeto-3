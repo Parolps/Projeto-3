{
 "cells": [
  {
   "cell_type": "code",
   "execution_count": 1,
   "metadata": {},
   "outputs": [],
   "source": [
    "import pandas as pd\n",
    "import numpy as np\n",
    "import matplotlib.pyplot as plt\n",
    "\n",
    "import pickle\n",
    "import seaborn as sns\n",
    "\n",
    "pd.options.display.max_columns = None\n",
    "plt.style.use(\"fivethirtyeight\")\n",
    "plt.rcParams[\"figure.dpi\"] = 150"
   ]
  },
  {
   "cell_type": "code",
   "execution_count": 2,
   "metadata": {},
   "outputs": [],
   "source": [
    "X_train, X_ivs, y_train, col_names = pickle.load(open(\"../data/drd2_data.pickle\", \"rb\"))"
   ]
  },
  {
   "cell_type": "code",
   "execution_count": null,
   "metadata": {},
   "outputs": [],
   "source": [
    "from sklearn import svm, datasets\n",
    "from sklearn.model_selection import GridSearchCV\n",
    "from sklearn.preprocessing import MinMaxScaler, StandardScaler\n",
    "\n",
    "\n",
    "pipe = make_pipeline(MinMaxScaler(), PowerTransformer())\n",
    "ct.set_params(scaler=pipe)\n",
    "X_train_sc = ct.fit_transform(X_train_simpcv)\n",
    "X_val_sc = ct.transform(X_val_simpcv)"
   ]
  },
  {
   "cell_type": "code",
   "execution_count": 3,
   "metadata": {},
   "outputs": [],
   "source": [
    "# Perform grid search on SVR to know the best combination of hyperparameters\n",
    "\n",
    "from sklearn.model_selection import GridSearchCV\n",
    "from sklearn.preprocessing import MinMaxScaler, StandardScaler, PowerTransformer\n",
    "from sklearn.compose import ColumnTransformer\n",
    "from sklearn.pipeline import Pipeline\n",
    "from sklearn.svm import SVR\n",
    "from sklearn.pipeline import make_pipeline\n",
    "\n",
    "\n",
    "# pipe = make_pipeline(MinMaxScaler(), PowerTransformer())\n",
    "# ct.set_params(scaler=pipe)\n",
    "# X_train_sc = ct.fit_transform(X_train_simpcv)\n",
    "# X_val_sc = ct.transform(X_val_simpcv)\n",
    "\n",
    "# Define the hyperparameters\n",
    "param_grid = {\n",
    "    'C': [0.1, 1, 10, 100], \n",
    "    'epsilon': [0.1, 0.2, 0.3, 0.4, 0.5], \n",
    "    'kernel': ['linear', 'rbf'],\n",
    "    'gamma': ['scale', 'auto']\n",
    "}\n",
    "\n",
    "# Create an instance of SVR\n",
    "svr = SVR()\n",
    "\n",
    "# Create an instance of GridSearchCV\n",
    "grid_search = GridSearchCV(svr, param_grid, cv=5)\n",
    "\n",
    "# Fit the GridSearchCV instance with the training data\n",
    "# Assume X_train and y_train are your training data\n",
    "grid_search.fit(X_train, y_train)\n",
    "\n",
    "# Print the best parameters\n",
    "print(grid_search.best_params_)"
   ]
  }
 ],
 "metadata": {
  "kernelspec": {
   "display_name": "env",
   "language": "python",
   "name": "python3"
  },
  "language_info": {
   "codemirror_mode": {
    "name": "ipython",
    "version": 3
   },
   "file_extension": ".py",
   "mimetype": "text/x-python",
   "name": "python",
   "nbconvert_exporter": "python",
   "pygments_lexer": "ipython3",
   "version": "3.11.5"
  }
 },
 "nbformat": 4,
 "nbformat_minor": 2
}
